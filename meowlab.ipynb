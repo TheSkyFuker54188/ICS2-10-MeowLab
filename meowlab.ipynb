{
 "cells": [
  {
   "cell_type": "markdown",
   "id": "c6175159",
   "metadata": {},
   "source": [
    "# MeowLab\n",
    "\n",
    "> cat可能是你最常用的命令行工具之一，但是可能很少有人会关注cat的性能问题。\n",
    "> \n",
    "> 但实际上，cat可能比你想的更加高效。在这个lab中，我们会一起来探索cat如此高效的秘密。"
   ]
  },
  {
   "cell_type": "markdown",
   "id": "ef876965",
   "metadata": {},
   "source": [
    "## 什么是cat\n",
    "\n",
    "对于大部分同学来说，这个问题有些太trivial了。但是以防万一，还是在这里介绍一下，cat是一个GNU coreutils中的一个程序，它的作用是连接(con**cat**enate)一系列文件，并将其输出到标准输出流(stdout)中。\n",
    "\n",
    "> 如果你愿意去找，你会发现这个lab中所有的代码都可以在GNU coreutils中找到，或者你用某个大模型，它可能也能写得不错。\n",
    "> 但是，除了写代码以外，这个lab中也会包含一些分析和讨论。因此即使你选择直接去抄GNU coreutils中的代码，也不要直接不加思考的复制粘贴。"
   ]
  },
  {
   "cell_type": "markdown",
   "id": "be33179e",
   "metadata": {},
   "source": [
    "## 环境要求\n",
    "\n",
    "* 操作系统：Linux（任何包含GNU coreutils的发行版）\n",
    "* 编译器：本lab允许使用C/C++或者Rust，选择你喜欢的任何编译器即可。\n",
    "* Python3.x：本lab一些地方需要你画图，推荐你使用matplotlib。另外，我们使用一个简单的脚本来生成测试文件。"
   ]
  },
  {
   "cell_type": "markdown",
   "id": "c6d3e510",
   "metadata": {},
   "source": [
    "## 在开始之前\n",
    "\n",
    "这个项目的所有代码需要你自己动手来写，我们只提供了一个用于生成测试文件的脚本。\n",
    "\n",
    "为了展示比较明显的测试效果，我们会生成一个2GB的测试文件，请确保你的磁盘拥有足够的空间。你可以运行下面这个单元格来查看你的电脑是否有足够的空间。这里我们使用了`df`命令，这个命令的作用是查看某个文件系统所在的磁盘的使用量。"
   ]
  },
  {
   "cell_type": "code",
   "execution_count": 1,
   "id": "14021422",
   "metadata": {},
   "outputs": [
    {
     "name": "stdout",
     "output_type": "stream",
     "text": [
      "Filesystem      Size  Used Avail Use% Mounted on\n",
      "/dev/sdc        251G   16G  223G   7% /\n",
      "Disk space is sufficient: 223G\n"
     ]
    }
   ],
   "source": [
    "%%bash\n",
    "df -h /\n",
    "\n",
    "avail=$(df -h / | awk 'NR==2 {print $4}' | grep -o '[0-9.]*')\n",
    "unit=$(df -h / | awk 'NR==2 {print $4}' | grep -o '[a-zA-Z]*')\n",
    "if [[ \"$unit\" == \"M\" || \"$unit\" == \"K\" ]]; then\n",
    "    echo \"Disk space is low: $avail$unit\"\n",
    "elif [[ \"$unit\" == \"T\" ]]; then\n",
    "    echo \"Disk space is sufficient: $avail$unit\"\n",
    "elif [[ \"$unit\" == \"G\" ]]; then\n",
    "    if (( $(echo \"$avail < 10\" | bc -l) )); then\n",
    "        echo \"Disk space is low: $avail$unit\"\n",
    "    else\n",
    "        echo \"Disk space is sufficient: $avail$unit\"\n",
    "    fi\n",
    "else\n",
    "    echo \"Unknown unit: $unit\"\n",
    "fi\n"
   ]
  },
  {
   "cell_type": "markdown",
   "id": "64cc6804",
   "metadata": {},
   "source": [
    "你可以使用我们提供的python脚本来生成测试文件，运行下面的单元格。测试文件的生成可能会花费一定的时间。"
   ]
  },
  {
   "cell_type": "code",
   "execution_count": 2,
   "id": "8ead0359",
   "metadata": {},
   "outputs": [],
   "source": [
    "import random\n",
    "\n",
    "MB = 1024 * 1024\n",
    "\n",
    "# A static seed for reproducibility\n",
    "random.seed(42)\n",
    "\n",
    "with open(\"test.txt\", \"wb\") as f:\n",
    "    for _ in range(2048):\n",
    "        f.write(random.randbytes(1 * MB)) # 1MB of random data"
   ]
  },
  {
   "cell_type": "markdown",
   "id": "a0017028",
   "metadata": {},
   "source": [
    "当前文件夹下面会出现一个大小为2GB的文件`test.txt`。你可以运行下面的单元格来验证。"
   ]
  },
  {
   "cell_type": "code",
   "execution_count": 3,
   "id": "a4bd4bd0",
   "metadata": {},
   "outputs": [
    {
     "name": "stdout",
     "output_type": "stream",
     "text": [
      "-rw-r--r-- 1 theskyfuker theskyfuker 2.0G Jun 19 00:49 test.txt\n"
     ]
    }
   ],
   "source": [
    "%%bash\n",
    "ls -lh test.txt"
   ]
  },
  {
   "cell_type": "markdown",
   "id": "55fbac6a",
   "metadata": {},
   "source": [
    "最后，我们的lab会需要使用`hyperfine`来测量程序的运行时间。我们推荐你使用`cargo`进行安装。你可以从[Rust官网](https://www.rust-lang.org/zh-CN/learn/get-started)找到安装脚本。如果你的电脑已经安装好了`cargo`，你可以运行下面的单元格来安装`hyperfine`。"
   ]
  },
  {
   "cell_type": "code",
   "execution_count": 4,
   "id": "77f0165a",
   "metadata": {},
   "outputs": [
    {
     "name": "stderr",
     "output_type": "stream",
     "text": [
      "bash: line 1: cargo: command not found\n"
     ]
    },
    {
     "ename": "CalledProcessError",
     "evalue": "Command 'b'cargo install hyperfine\\n'' returned non-zero exit status 127.",
     "output_type": "error",
     "traceback": [
      "\u001b[0;31m---------------------------------------------------------------------------\u001b[0m",
      "\u001b[0;31mCalledProcessError\u001b[0m                        Traceback (most recent call last)",
      "Cell \u001b[0;32mIn[4], line 1\u001b[0m\n\u001b[0;32m----> 1\u001b[0m \u001b[43mget_ipython\u001b[49m\u001b[43m(\u001b[49m\u001b[43m)\u001b[49m\u001b[38;5;241;43m.\u001b[39;49m\u001b[43mrun_cell_magic\u001b[49m\u001b[43m(\u001b[49m\u001b[38;5;124;43m'\u001b[39;49m\u001b[38;5;124;43mbash\u001b[39;49m\u001b[38;5;124;43m'\u001b[39;49m\u001b[43m,\u001b[49m\u001b[43m \u001b[49m\u001b[38;5;124;43m'\u001b[39;49m\u001b[38;5;124;43m'\u001b[39;49m\u001b[43m,\u001b[49m\u001b[43m \u001b[49m\u001b[38;5;124;43m'\u001b[39;49m\u001b[38;5;124;43mcargo install hyperfine\u001b[39;49m\u001b[38;5;130;43;01m\\n\u001b[39;49;00m\u001b[38;5;124;43m'\u001b[39;49m\u001b[43m)\u001b[49m\n",
      "File \u001b[0;32m~/ICS_Lab/meowhw-TheSkyFuker54188/.venv/lib/python3.10/site-packages/IPython/core/interactiveshell.py:2543\u001b[0m, in \u001b[0;36mInteractiveShell.run_cell_magic\u001b[0;34m(self, magic_name, line, cell)\u001b[0m\n\u001b[1;32m   2541\u001b[0m \u001b[38;5;28;01mwith\u001b[39;00m \u001b[38;5;28mself\u001b[39m\u001b[38;5;241m.\u001b[39mbuiltin_trap:\n\u001b[1;32m   2542\u001b[0m     args \u001b[38;5;241m=\u001b[39m (magic_arg_s, cell)\n\u001b[0;32m-> 2543\u001b[0m     result \u001b[38;5;241m=\u001b[39m \u001b[43mfn\u001b[49m\u001b[43m(\u001b[49m\u001b[38;5;241;43m*\u001b[39;49m\u001b[43margs\u001b[49m\u001b[43m,\u001b[49m\u001b[43m \u001b[49m\u001b[38;5;241;43m*\u001b[39;49m\u001b[38;5;241;43m*\u001b[39;49m\u001b[43mkwargs\u001b[49m\u001b[43m)\u001b[49m\n\u001b[1;32m   2545\u001b[0m \u001b[38;5;66;03m# The code below prevents the output from being displayed\u001b[39;00m\n\u001b[1;32m   2546\u001b[0m \u001b[38;5;66;03m# when using magics with decorator @output_can_be_silenced\u001b[39;00m\n\u001b[1;32m   2547\u001b[0m \u001b[38;5;66;03m# when the last Python token in the expression is a ';'.\u001b[39;00m\n\u001b[1;32m   2548\u001b[0m \u001b[38;5;28;01mif\u001b[39;00m \u001b[38;5;28mgetattr\u001b[39m(fn, magic\u001b[38;5;241m.\u001b[39mMAGIC_OUTPUT_CAN_BE_SILENCED, \u001b[38;5;28;01mFalse\u001b[39;00m):\n",
      "File \u001b[0;32m~/ICS_Lab/meowhw-TheSkyFuker54188/.venv/lib/python3.10/site-packages/IPython/core/magics/script.py:159\u001b[0m, in \u001b[0;36mScriptMagics._make_script_magic.<locals>.named_script_magic\u001b[0;34m(line, cell)\u001b[0m\n\u001b[1;32m    157\u001b[0m \u001b[38;5;28;01melse\u001b[39;00m:\n\u001b[1;32m    158\u001b[0m     line \u001b[38;5;241m=\u001b[39m script\n\u001b[0;32m--> 159\u001b[0m \u001b[38;5;28;01mreturn\u001b[39;00m \u001b[38;5;28;43mself\u001b[39;49m\u001b[38;5;241;43m.\u001b[39;49m\u001b[43mshebang\u001b[49m\u001b[43m(\u001b[49m\u001b[43mline\u001b[49m\u001b[43m,\u001b[49m\u001b[43m \u001b[49m\u001b[43mcell\u001b[49m\u001b[43m)\u001b[49m\n",
      "File \u001b[0;32m~/ICS_Lab/meowhw-TheSkyFuker54188/.venv/lib/python3.10/site-packages/IPython/core/magics/script.py:336\u001b[0m, in \u001b[0;36mScriptMagics.shebang\u001b[0;34m(self, line, cell)\u001b[0m\n\u001b[1;32m    331\u001b[0m \u001b[38;5;28;01mif\u001b[39;00m args\u001b[38;5;241m.\u001b[39mraise_error \u001b[38;5;129;01mand\u001b[39;00m p\u001b[38;5;241m.\u001b[39mreturncode \u001b[38;5;241m!=\u001b[39m \u001b[38;5;241m0\u001b[39m:\n\u001b[1;32m    332\u001b[0m     \u001b[38;5;66;03m# If we get here and p.returncode is still None, we must have\u001b[39;00m\n\u001b[1;32m    333\u001b[0m     \u001b[38;5;66;03m# killed it but not yet seen its return code. We don't wait for it,\u001b[39;00m\n\u001b[1;32m    334\u001b[0m     \u001b[38;5;66;03m# in case it's stuck in uninterruptible sleep. -9 = SIGKILL\u001b[39;00m\n\u001b[1;32m    335\u001b[0m     rc \u001b[38;5;241m=\u001b[39m p\u001b[38;5;241m.\u001b[39mreturncode \u001b[38;5;129;01mor\u001b[39;00m \u001b[38;5;241m-\u001b[39m\u001b[38;5;241m9\u001b[39m\n\u001b[0;32m--> 336\u001b[0m     \u001b[38;5;28;01mraise\u001b[39;00m CalledProcessError(rc, cell)\n",
      "\u001b[0;31mCalledProcessError\u001b[0m: Command 'b'cargo install hyperfine\\n'' returned non-zero exit status 127."
     ]
    }
   ],
   "source": [
    "%%bash\n",
    "cargo install hyperfine"
   ]
  },
  {
   "cell_type": "markdown",
   "id": "45cefa6f",
   "metadata": {},
   "source": [
    "有了以上的准备工作，我们终于可以开始我们的探索之旅了。"
   ]
  },
  {
   "cell_type": "markdown",
   "id": "9c1afa63",
   "metadata": {},
   "source": [
    "## 任务0: 测量cat的效率\n",
    "\n",
    "你要做的第一个任务十分简单。学习一下如何使用`hyperfine`，并且使用它来测试GNU coreutils中的cat输出我们生成的测试文件`test.txt`的时间。运行下面的单元格来运行测试。"
   ]
  },
  {
   "cell_type": "code",
   "execution_count": 5,
   "id": "4af9a82b",
   "metadata": {},
   "outputs": [
    {
     "name": "stdout",
     "output_type": "stream",
     "text": [
      "Benchmark 1: cat test.txt\n",
      "  Time (mean ± σ):     431.2 ms ±  24.7 ms    [User: 4.6 ms, System: 423.1 ms]\n",
      "  Range (min … max):   400.8 ms … 487.3 ms    10 runs\n",
      " \n"
     ]
    }
   ],
   "source": [
    "%%bash\n",
    "hyperfine --warmup 3 'cat test.txt'"
   ]
  },
  {
   "cell_type": "markdown",
   "id": "cd94fe5a",
   "metadata": {},
   "source": [
    "## 任务1: 写一个最朴素的cat\n",
    "\n",
    "我们现在使用`hyperfine`测量了GNU coreutils中的`cat`的运行效率，但是对于这个运行时间，我们可能并没有什么概念。现在我们将会写一个最朴素的`cat`程序来作为baseline。这个程序需要满足一下要求：\n",
    "1. 把你的源代码命名为`mycat1.c`或者`mycat1.rs`，并且可执行的二进制文件命名为`mycat1`。\n",
    "2. 你的程序接受且只接受一个命令行参数，这个参数是你要读取的文件。\n",
    "3. 你的程序直接使用`read`和`write`系统调用，每次读取并输出一个字符，不使用任何缓冲区。\n",
    "4. 使用`hpyerfine`测量`mycat1`和`cat`运行时间（`mycat1`的运行时间可能会非常长）\n",
    "5. 虽然这是一个很简单的程序，但是请仍然保持系统编程的规范。请在你的代码中进行进行所有必要的错误处理。\n",
    "\n",
    "这个任务不需要在文档中包含任何内容。"
   ]
  },
  {
   "cell_type": "code",
   "execution_count": 6,
   "id": "124223b9",
   "metadata": {},
   "outputs": [
    {
     "name": "stdout",
     "output_type": "stream",
     "text": [
      "Benchmark 1: ./target/mycat1 test.txt\n",
      "  Time (abs ≡):        1520.015 s               [User: 271.833 s, System: 1248.076 s]\n",
      " \n"
     ]
    }
   ],
   "source": [
    "%%bash\n",
    "hyperfine --warmup 3 --runs 1 './target/mycat1 test.txt'"
   ]
  },
  {
   "cell_type": "markdown",
   "id": "7105038c",
   "metadata": {},
   "source": [
    "## 任务2: 带有缓冲区的cat\n",
    "\n",
    "如果你正确完成了上面的任务，你会发现，`mycat1`的性能和系统中的`cat`的性能相差甚远。但是经过了ics课程的学习，你肯定已经想到了至少一个解决方案——使用缓冲区。缓冲区可以有效减少反复进行系统调用的性能消耗。但是，我们要面临的第二个问题是：缓冲区的大小应该如何设置呢？我们接下来将一步一步地探索这个问题。\n",
    "\n",
    "我们之前肯定也已经讲过不少涉及IO缓冲区的程序了，它们的缓冲区大小都被设置为多少呢？我相信1024, 4096, 8192一定是比较常见的几个数字。经过ics的学习，我相信你们肯定能说出原因了。那么，这个任务，我们将根据这个原理优化我们的`mycat1`。你至少需要完成下面要求：\n",
    "1. 复制你上一个任务的源代码在上面做修改，并把源代码命名为`mycat2.c`/`mycat2.rs`，可执行二进制文件命名为`mycat2`。\n",
    "2. 写一个`io_blocksize`函数用于确定你的缓冲区的大小，在这个任务中，你可以将缓冲区设置成你当前系统中一个内存页的大小。（注意：你不能假设所有系统中内存页的大小都是4K，请你使用一个系统调用或者标准库中的函数来获取内存页的大小，而不要使用一个固定值。不过允许你使用一个固定值，如果获取内存页发生错误，但是这不应该是一个常见的情况）。\n",
    "3. 使用标准库提供的函数动态分配用于缓冲区的内存。\n",
    "4. 使用`hpyerfine`测量`mycat2`的运行时间\n",
    "5. 请保持系统编程的基本规范。\n",
    "\n",
    "这个任务不需要在文档中包含任何内容。"
   ]
  },
  {
   "cell_type": "code",
   "execution_count": 7,
   "id": "ac23d60f",
   "metadata": {},
   "outputs": [
    {
     "name": "stdout",
     "output_type": "stream",
     "text": [
      "Benchmark 1: ./target/mycat2 test.txt\n",
      "  Time (mean ± σ):     713.7 ms ±  13.9 ms    [User: 61.4 ms, System: 651.2 ms]\n",
      "  Range (min … max):   699.2 ms … 749.3 ms    10 runs\n",
      " \n"
     ]
    }
   ],
   "source": [
    "%%bash\n",
    "hyperfine --warmup 3 './target/mycat2 test.txt'"
   ]
  },
  {
   "cell_type": "markdown",
   "id": "c5630499",
   "metadata": {},
   "source": [
    "## 任务3: 缓冲区对齐的cat\n",
    "\n",
    "如果你正确完成了上面这个任务，你会发现，添加了缓冲区的`mycat2`性能提升十分显著。但是我们还可以进一步优化。实际上只是添加了缓冲区并且设置缓冲区的大小为内存页的整数倍并不是没有什么太多的意义，这样的设置只是为了这个一个任务做铺垫的。在这个任务中，我们将尝试将我们的缓冲区对齐到系统的内存页。至于为什么要这么做，请大家在自己的文档中分析一下。你至少需要完成以下要求：\n",
    "1. 复制你上一个任务的源代码在上面做修改，并把源代码命名为`mycat3.c`/`mycat3.rs`，可执行二进制文件命名为`mycat3`。\n",
    "2. 写两个函数`char* align_alloc(size_t size)`和`void align_free(void* ptr)`，它们的作用分别是分配一段内存，长度不小于`size`并且返回一个对齐到内存页起始的指针`ptr`，以及给出一个先前从`align_alloc`返回的指针并释放之前分配的内存。\n",
    "3. 利用这两个函数修改你的代码，缓冲区的大小仍然设置成一个内存页的大小。\n",
    "4. 使用`hpyerfine`测量`mycat3`的运行时间\n",
    "5. 请保持系统编程的基本规范。\n",
    "\n",
    "这个任务，你需要在文档中回答以下问题：\n",
    "1. 为什么将缓冲区对齐到系统的内存可能提高性能？你的实验结果支持这个猜想吗？为什么？\n",
    "2. 为什么我们直接使用`malloc`函数分配的内存不能对齐到内存页，即使我们分配的内存大小已经是内存页大小的整数倍了。\n",
    "3. 你是怎么在不知道原始的malloc返回的指针的情况下正确释放内存的？"
   ]
  },
  {
   "cell_type": "code",
   "execution_count": 1,
   "id": "cc9a08fd",
   "metadata": {},
   "outputs": [
    {
     "name": "stdout",
     "output_type": "stream",
     "text": [
      "Benchmark 1: ./target/mycat3 test.txt\n",
      "  Time (mean ± σ):     699.8 ms ±   5.8 ms    [User: 65.4 ms, System: 631.8 ms]\n",
      "  Range (min … max):   689.7 ms … 709.9 ms    10 runs\n",
      " \n"
     ]
    }
   ],
   "source": [
    "%%bash\n",
    "hyperfine --warmup 3 './target/mycat3 test.txt'"
   ]
  },
  {
   "cell_type": "markdown",
   "id": "45070667",
   "metadata": {},
   "source": [
    "## 任务4: 设置缓冲区大小为文件系统块大小的整数倍的cat\n",
    "\n",
    "由于`cat`是涉及文件操作的，所以我们自然不能离开磁盘操作。我们在课内已经学到过，磁盘操作的基本单位是块。并且因为我们操作磁盘是经过了操作系统的一层抽象的，操作系统的文件系统也定义了一个操作文件的基本单位块，这个块的大小和磁盘的块的大小相关，但不总是相同。因此我们操作文件的时候实际接触到的块大小是文件系统的块大小。如果我们每次读取和写入文件的时候都按照文件系统的块大小来进行，也能提升性能。在这个任务中，你至少需要完成以下要求：\n",
    "1. 复制你上一个任务的源代码在上面做修改，并把源代码命名为`mycat4.c`/`mycat4.rs`，可执行二进制文件命名为`mycat4`。\n",
    "2. 修改你的函数`io_blocksize`，让你的缓冲区大小既考虑到内存页大小也考虑到文件系统的块大小。\n",
    "3. 使用`hyperfine`测量`mycat4`的运行时间。\n",
    "4. 保持系统编程的基本规范。\n",
    "\n",
    "> 在完成这项任务的时候你需要注意以下几点：\n",
    "> 1. 文件系统中的每个文件，块大小不总是相同的。\n",
    "> 2. 有的文件系统可能会给出虚假的块大小，这种虚假的文件块大小可能根本不是2的整数次幂。\n",
    "\n",
    "这个任务，你需要在文档中回答以下问题：\n",
    "1. 为什么在设置缓冲区大小的时候需要考虑到文件系统块的大小的问题？\n",
    "2. 对于上面提到的两个注意事项你是怎么解决的？"
   ]
  },
  {
   "cell_type": "markdown",
   "id": "d118cab7",
   "metadata": {},
   "source": [
    "### 任务3问题回答\n",
    "\n",
    "**1. 为什么将缓冲区对齐到系统的内存页可能提高性能？你的实验结果支持这个猜想吗？为什么？**\n",
    "\n",
    "将缓冲区对齐到内存页边界可能提高性能的原因：\n",
    "- **减少TLB miss**：当缓冲区对齐到页边界时，内存访问更有可能命中TLB（Translation Lookaside Buffer），减少地址转换的开销\n",
    "- **提高缓存效率**：对齐的内存访问可能更好地利用CPU缓存行，减少缓存miss\n",
    "- **减少内存分页操作**：对齐的内存访问可能减少跨页面的内存操作\n",
    "\n",
    "从实验结果看：mycat3（699.8ms）相比mycat2（713.7ms）有小幅改善，支持这个猜想。虽然改善不是很显著，但确实存在。\n",
    "\n",
    "**2. 为什么我们直接使用malloc函数分配的内存不能对齐到内存页，即使我们分配的内存大小已经是内存页大小的整数倍了？**\n",
    "\n",
    "`malloc`函数不保证返回页对齐的指针，因为：\n",
    "- `malloc`只保证返回的指针适合最严格的对齐要求（通常是8字节或16字节对齐）\n",
    "- 页对齐需要更严格的对齐（通常是4KB边界），这超出了`malloc`的标准保证\n",
    "- 即使分配页大小的整数倍内存，起始地址仍可能不在页边界上\n",
    "\n",
    "**3. 你是怎么在不知道原始的malloc返回的指针的情况下正确释放内存的？**\n",
    "\n",
    "我的解决方案是在对齐后的指针前面存储原始指针：\n",
    "- 分配比需要大小多一个页面的内存\n",
    "- 计算对齐后的地址\n",
    "- 在对齐指针前面的8字节位置存储原始malloc返回的指针\n",
    "- 释放时，从对齐指针前面读取原始指针，然后调用free释放"
   ]
  },
  {
   "cell_type": "code",
   "execution_count": 2,
   "id": "b1c29621",
   "metadata": {},
   "outputs": [
    {
     "name": "stdout",
     "output_type": "stream",
     "text": [
      "Benchmark 1: ./target/mycat4 test.txt\n",
      "  Time (mean ± σ):     694.6 ms ±   7.8 ms    [User: 75.5 ms, System: 616.6 ms]\n",
      "  Range (min … max):   684.8 ms … 707.7 ms    10 runs\n",
      " \n"
     ]
    }
   ],
   "source": [
    "%%bash\n",
    "hyperfine --warmup 3 './target/mycat4 test.txt'"
   ]
  },
  {
   "cell_type": "markdown",
   "id": "442bbd60",
   "metadata": {},
   "source": [
    "## 任务5: 考虑系统调用开销情况下的cat\n",
    "\n",
    "如果你正确完成了上面的任务，那么现在你的`cat`已经可以综合考虑内存页大小，内存页对齐和文件系统块大小的因素来设置缓冲区大小了。但是我们会发现，我们自己的`cat`性能仍然不如我们系统中的`cat`。并且如果你尝试过再进一步增大缓冲区的大小，你的`cat`性能还能更高。这是因为我们目前设置的缓冲区大小还不足以掩盖系统调用带来的开销。那么，我们的缓冲区究竟应该设置到什么大小才够呢？其实这个问题，我们仅仅使用理论分析是无法给出答案的，因为答案受到机器的硬件条件，操作系统的涉及等多重不确定因素的影响。但是，我们可以使用实验来解答这个问题。最后，我们还需要做出假设，不考虑上一个任务的注意事项1，也就是我们假设我们文件系统的大部分文件的块大小都一致（你可以使用我们的测试文件的块大小）。因此，设我们在之前的任务中设置的缓冲区大小是buf_size，我们需要通过实验找到一个倍数A，满足以下条件：\n",
    "1. 当缓冲区大小小于A * buf_size的时候，文件的读写速度显著减小\n",
    "2. 当缓冲区大小大于A * buf_size的时候，文件的读写速度并不显著提升\n",
    "最终，我们就可以直接设置我们的`cat`中的缓冲区大小设置成buf_size的固定倍率。在这个任务中，你只少需要完成以下要求：\n",
    "1. 编写一个实验脚本，尽量排除其他因素的影响，测量只在系统调用开销的影响下，你的系统最合适的缓冲区大小。并且给出这个大小下你的系统的读写速率。\n",
    "2. 复制你上一个任务的源代码在上面做修改，并把源代码命名为`mycat5.c`/`mycat5.rs`，可执行二进制文件命名为`mycat5`。\n",
    "3. 利用上面的实验结果，修改你的函数`io_blocksize`。\n",
    "4. 使用`hyperfine`测量`mycat5`的运行时间。\n",
    "5. 保持系统编程的基本规范。\n",
    "\n",
    "> 提示：\n",
    "> 1. `dd`命令可以用于复制一个文件(也就是读取并写入)，你可以使用命令行参数设置它的缓冲区大小，并且程序终止的时候可以报告平均文件读写速度。\n",
    "> 2. Linux系统中存在`/dev`文件系统，这个目录下有很多特殊文件，其中有一些对你来说可能有用。`/dev/null`，你向这个文件写入的内容并不真正写入磁盘，并且不会对你的系统造成任何影响。`/dev/zero`，如果你尝试读取这个文件你会得到源源不断的`\\0x0`，这个文件也并不真正的从磁盘中读取。\n",
    "\n",
    "这个任务，你需要在文档中包括以下内容：\n",
    "1. 解释一下你的实验脚本是怎么设计的。你应该尝试了多种倍率，请将它们的读写速率画成图表包含在文档中。"
   ]
  },
  {
   "cell_type": "markdown",
   "id": "0198f582",
   "metadata": {},
   "source": [
    "### 任务4问题回答\n",
    "\n",
    "**1. 为什么在设置缓冲区大小的时候需要考虑到文件系统块的大小的问题？**\n",
    "\n",
    "考虑文件系统块大小的原因：\n",
    "- **减少磁盘I/O开销**：文件系统以块为单位进行磁盘读写，如果缓冲区大小是块大小的整数倍，可以避免不必要的额外I/O操作\n",
    "- **提高预读效率**：操作系统的预读机制通常基于文件系统块，合适的缓冲区大小可以更好地配合预读\n",
    "- **减少内核处理开销**：当读取请求大小与文件系统块大小匹配时，内核处理更加高效\n",
    "\n",
    "**2. 对于上面提到的两个注意事项你是怎么解决的？**\n",
    "\n",
    "针对注意事项的解决方案：\n",
    "- **不同文件块大小不同**：我使用`fstat`系统调用获取每个文件的具体块大小（`st_blksize`），而不是使用固定值\n",
    "- **虚假块大小问题**：我加入了合理性检查：\n",
    "  - 确保块大小大于0且不超过1MB\n",
    "  - 检查块大小是否为2的幂（`(st_blksize & (st_blksize - 1)) == 0`）\n",
    "  - 如果块大小不合理，回退使用页面大小\n",
    "- **最终缓冲区大小**：使用页面大小和文件系统块大小的最小公倍数，确保同时满足两个对齐要求"
   ]
  },
  {
   "cell_type": "code",
   "execution_count": 1,
   "id": "9a720e79",
   "metadata": {},
   "outputs": [
    {
     "name": "stdout",
     "output_type": "stream",
     "text": [
      "Base buffer size (page size): 4096 bytes\n",
      "Testing buffer size: 4096 bytes (1x page size)\n",
      "Speed: 2276.48 MB/s\n",
      "Testing buffer size: 8192 bytes (2x page size)\n",
      "Speed: 2276.48 MB/s\n",
      "Testing buffer size: 8192 bytes (2x page size)\n",
      "Speed: 3588.61 MB/s\n",
      "Testing buffer size: 16384 bytes (4x page size)\n",
      "Speed: 3588.61 MB/s\n",
      "Testing buffer size: 16384 bytes (4x page size)\n",
      "Speed: 3824.65 MB/s\n",
      "Testing buffer size: 32768 bytes (8x page size)\n",
      "Speed: 3824.65 MB/s\n",
      "Testing buffer size: 32768 bytes (8x page size)\n",
      "Speed: 4188.51 MB/s\n",
      "Testing buffer size: 65536 bytes (16x page size)\n",
      "Speed: 4188.51 MB/s\n",
      "Testing buffer size: 65536 bytes (16x page size)\n",
      "Speed: 4861.89 MB/s\n",
      "Testing buffer size: 131072 bytes (32x page size)\n",
      "Speed: 4861.89 MB/s\n",
      "Testing buffer size: 131072 bytes (32x page size)\n",
      "Speed: 4950.83 MB/s\n",
      "Testing buffer size: 262144 bytes (64x page size)\n",
      "Speed: 4950.83 MB/s\n",
      "Testing buffer size: 262144 bytes (64x page size)\n",
      "Speed: 4832.66 MB/s\n",
      "Testing buffer size: 524288 bytes (128x page size)\n",
      "Speed: 4832.66 MB/s\n",
      "Testing buffer size: 524288 bytes (128x page size)\n",
      "Speed: 5118.68 MB/s\n",
      "Speed: 5118.68 MB/s\n"
     ]
    },
    {
     "data": {
      "image/png": "[encoded data removed]",
      "text/plain": [
       "<Figure size 1000x600 with 1 Axes>"
      ]
     },
     "metadata": {},
     "output_type": "display_data"
    },
    {
     "name": "stdout",
     "output_type": "stream",
     "text": [
      "\n",
      "Optimal buffer size: 128x page size = 524288 bytes\n",
      "Maximum speed achieved: 5118.68 MB/s\n"
     ]
    }
   ],
   "source": [
    "# 实验脚本：测试不同缓冲区大小的性能\n",
    "import subprocess\n",
    "import time\n",
    "import matplotlib.pyplot as plt\n",
    "\n",
    "# 获取基本缓冲区大小（页面大小）\n",
    "def get_page_size():\n",
    "    result = subprocess.run(['getconf', 'PAGESIZE'], capture_output=True, text=True)\n",
    "    return int(result.stdout.strip())\n",
    "\n",
    "# 测试不同倍数的缓冲区性能\n",
    "def test_buffer_sizes():\n",
    "    base_size = get_page_size()\n",
    "    print(f\"Base buffer size (page size): {base_size} bytes\")\n",
    "    \n",
    "    # 测试1x到128x的倍数\n",
    "    multipliers = [1, 2, 4, 8, 16, 32, 64, 128]\n",
    "    speeds = []\n",
    "    \n",
    "    for mult in multipliers:\n",
    "        buffer_size = base_size * mult\n",
    "        print(f\"Testing buffer size: {buffer_size} bytes ({mult}x page size)\")\n",
    "        \n",
    "        # 使用dd命令测试读写速度，从test.txt读取并写入到/dev/null\n",
    "        cmd = [\n",
    "            'dd', \n",
    "            'if=test.txt', \n",
    "            'of=/dev/null', \n",
    "            f'bs={buffer_size}',\n",
    "            'status=progress'\n",
    "        ]\n",
    "        \n",
    "        start_time = time.time()\n",
    "        try:\n",
    "            result = subprocess.run(cmd, capture_output=True, text=True, timeout=60)\n",
    "            elapsed_time = time.time() - start_time\n",
    "            \n",
    "            # 计算速度 MB/s\n",
    "            file_size_mb = 2048  # 2GB in MB\n",
    "            speed = file_size_mb / elapsed_time\n",
    "            speeds.append(speed)\n",
    "            print(f\"Speed: {speed:.2f} MB/s\")\n",
    "            \n",
    "        except subprocess.TimeoutExpired:\n",
    "            print(f\"Timeout for buffer size {buffer_size}\")\n",
    "            speeds.append(0)\n",
    "        except Exception as e:\n",
    "            print(f\"Error for buffer size {buffer_size}: {e}\")\n",
    "            speeds.append(0)\n",
    "    \n",
    "    return multipliers, speeds\n",
    "\n",
    "# 执行测试\n",
    "multipliers, speeds = test_buffer_sizes()\n",
    "\n",
    "# 绘制图表\n",
    "plt.figure(figsize=(10, 6))\n",
    "plt.plot(multipliers, speeds, 'b-o', linewidth=2, markersize=8)\n",
    "plt.xlabel('Buffer Size Multiplier (× Page Size)')\n",
    "plt.ylabel('Read Speed (MB/s)')\n",
    "plt.title('File Read Performance vs Buffer Size')\n",
    "plt.grid(True, alpha=0.3)\n",
    "plt.xscale('log', base=2)\n",
    "plt.xticks(multipliers, [f'{m}x' for m in multipliers])\n",
    "\n",
    "# 找到最优点\n",
    "if speeds:\n",
    "    max_speed_idx = speeds.index(max(speeds))\n",
    "    optimal_mult = multipliers[max_speed_idx]\n",
    "    optimal_speed = speeds[max_speed_idx]\n",
    "    \n",
    "    plt.axvline(x=optimal_mult, color='r', linestyle='--', alpha=0.7)\n",
    "    plt.text(optimal_mult, optimal_speed, f'Optimal: {optimal_mult}x\\n{optimal_speed:.1f} MB/s', \n",
    "             ha='center', va='bottom', bbox=dict(boxstyle='round', facecolor='yellow', alpha=0.8))\n",
    "\n",
    "plt.tight_layout()\n",
    "plt.show()\n",
    "\n",
    "print(f\"\\nOptimal buffer size: {optimal_mult}x page size = {optimal_mult * get_page_size()} bytes\")\n",
    "print(f\"Maximum speed achieved: {optimal_speed:.2f} MB/s\")"
   ]
  },
  {
   "cell_type": "code",
   "execution_count": 2,
   "id": "fefb5fdb",
   "metadata": {},
   "outputs": [
    {
     "name": "stdout",
     "output_type": "stream",
     "text": [
      "Benchmark 1: ./target/mycat5 test.txt\n",
      "  Time (mean ± σ):     479.8 ms ±  27.7 ms    [User: 3.6 ms, System: 475.0 ms]\n",
      "  Range (min … max):   436.6 ms … 515.4 ms    10 runs\n",
      " \n",
      "  Time (mean ± σ):     479.8 ms ±  27.7 ms    [User: 3.6 ms, System: 475.0 ms]\n",
      "  Range (min … max):   436.6 ms … 515.4 ms    10 runs\n",
      " \n"
     ]
    }
   ],
   "source": [
    "%%bash\n",
    "hyperfine --warmup 3 './target/mycat5 test.txt'"
   ]
  },
  {
   "cell_type": "markdown",
   "id": "54bef4af",
   "metadata": {},
   "source": [
    "## 任务6: 使用了系统调用`fdadvice`的cat\n",
    "\n",
    "虽然几乎我们的这个lab都在讨论设置缓冲区大小的问题，但是实际上我们的系统中的`cat`还在其他很多方面做了不少优化。这些优化在多数时候和缓冲区相比都不起决定性作用，但是我们也可以从中学习到不少有趣的技巧。这里我们就只尝试其中一个，使用系统调用`fadvise`。这个系统调用可以提示文件系统我们将会以什么样的模式来读写文件，这样操作系统可以设置合适的readahead窗口为文件的读写做准备。在这个任务中，你需要完成以下要求：\n",
    "1. 复制你上一个任务的源代码在上面做修改，并把源代码命名为`mycat6.c`/`mycat6.rs`，可执行二进制文件命名为`mycat6`。\n",
    "2. 在你的代码中使用`fadvise`进行优化。\n",
    "3. 使用`hyperfine`测量`mycat6`的运行时间。\n",
    "4. 保持系统编程的基本规范。\n",
    "\n",
    "这个任务，你需要在文档中回答以下问题：\n",
    "1. 你是如何设置`fadvise`的参数的？\n",
    "2. 对于顺序读写的情况，文件系统可以如何调整readahead？对于随机读写的情况呢？"
   ]
  },
  {
   "cell_type": "markdown",
   "id": "87487bcc",
   "metadata": {},
   "source": [
    "### 任务5实验设计说明\n",
    "\n",
    "**实验脚本设计思路：**\n",
    "\n",
    "1. **测试目标**：找到能够有效掩盖系统调用开销的最优缓冲区大小\n",
    "2. **测试方法**：使用`dd`命令测试不同缓冲区大小的读写性能\n",
    "3. **测试范围**：从1倍页面大小到128倍页面大小\n",
    "4. **性能指标**：读写速度（MB/s）\n",
    "5. **排除干扰因素**：\n",
    "   - 使用`/dev/null`作为输出，避免实际写入磁盘的开销\n",
    "   - 测试相同的输入文件，确保数据一致性\n",
    "   - 使用固定的倍数序列进行系统性测试\n",
    "\n",
    "**实验结果分析：**\n",
    "- 从图表可以看出，随着缓冲区大小增加，性能逐步提升\n",
    "- 在32倍页面大小（131KB）后，性能提升开始放缓\n",
    "- 128倍页面大小（524KB）达到最佳性能（5118.7 MB/s）\n",
    "- 这表明较大的缓冲区能够有效减少系统调用的频率，从而提升整体性能"
   ]
  },
  {
   "cell_type": "code",
   "execution_count": 3,
   "id": "3aad1e29",
   "metadata": {},
   "outputs": [
    {
     "name": "stdout",
     "output_type": "stream",
     "text": [
      "Benchmark 1: ./target/mycat6 test.txt\n",
      "  Time (mean ± σ):      2.510 s ±  0.326 s    [User: 0.010 s, System: 1.418 s]\n",
      "  Range (min … max):    2.121 s …  3.026 s    10 runs\n",
      " \n",
      "  Time (mean ± σ):      2.510 s ±  0.326 s    [User: 0.010 s, System: 1.418 s]\n",
      "  Range (min … max):    2.121 s …  3.026 s    10 runs\n",
      " \n"
     ]
    }
   ],
   "source": [
    "%%bash\n",
    "hyperfine --warmup 3 './target/mycat6 test.txt'"
   ]
  },
  {
   "cell_type": "markdown",
   "id": "2c605486",
   "metadata": {},
   "source": [
    "## 任务7: 总结\n",
    "\n",
    "经过了上面的所有任务，我们已经成功探索我们系统中最常用的工具`cat`所使用的各种优化。我相信你对涉及系统IO的编程也有了更深刻的理解。现在请你整理汇总上面每个任务你所写的`mycatx`以及系统的`cat`的测量数据，使用一个柱状图来展示。并且请你分析一下你得到的结果：它们符合你的预期吗？为什么？这个结果给你带来了什么启示？\n",
    "\n",
    "这个任务，你需要在文档中包含以下内容：\n",
    "1. 你的全部实验结果的柱状图。\n",
    "2. 你对上述实验结果的分析。"
   ]
  },
  {
   "cell_type": "markdown",
   "id": "9bb17d0a",
   "metadata": {},
   "source": [
    "### 任务6问题回答\n",
    "\n",
    "**1. 你是如何设置fadvise的参数的？**\n",
    "\n",
    "我使用了以下fadvise设置：\n",
    "- `POSIX_FADV_SEQUENTIAL`：告诉内核我们将以顺序方式访问文件，内核会相应地增加预读窗口大小\n",
    "- `POSIX_FADV_WILLNEED`：提示内核我们很快会需要这些数据，促使内核开始预读\n",
    "- `POSIX_FADV_DONTNEED`：在读取完成后，告诉内核不再需要这些页面，可以释放相关缓存\n",
    "\n",
    "**2. 对于顺序读写的情况，文件系统可以如何调整readahead？对于随机读写的情况呢？**\n",
    "\n",
    "**顺序读写情况：**\n",
    "- 内核会检测到连续的读取模式，自动增加预读窗口大小\n",
    "- 预读窗口可能从几KB逐步增长到几MB\n",
    "- `POSIX_FADV_SEQUENTIAL`会进一步增大预读窗口，提高效率\n",
    "\n",
    "**随机读写情况：**\n",
    "- 内核检测到随机访问模式后，会减少或禁用预读\n",
    "- `POSIX_FADV_RANDOM`可以明确告诉内核禁用预读，避免浪费内存\n",
    "- 随机访问更依赖于缓存命中而不是预读\n",
    "\n",
    "**关于实验结果：**\n",
    "令人意外的是，mycat6的性能（2.51秒）比mycat5（479.8ms）差很多。这可能是因为：\n",
    "- 测试文件可能已经在系统缓存中，fadvise的预读效果不明显\n",
    "- 过度的预读反而可能导致内存竞争或缓存污染\n",
    "- 在某些情况下，让内核自动优化可能比显式提示更有效"
   ]
  },
  {
   "cell_type": "code",
   "execution_count": 4,
   "id": "4e293a45",
   "metadata": {},
   "outputs": [
    {
     "name": "stderr",
     "output_type": "stream",
     "text": [
      "/tmp/ipykernel_251316/4256691243.py:53: UserWarning: Glyph 31995 (\\N{CJK UNIFIED IDEOGRAPH-7CFB}) missing from font(s) DejaVu Sans.\n",
      "  plt.tight_layout()\n",
      "/tmp/ipykernel_251316/4256691243.py:53: UserWarning: Glyph 32479 (\\N{CJK UNIFIED IDEOGRAPH-7EDF}) missing from font(s) DejaVu Sans.\n",
      "  plt.tight_layout()\n",
      "/tmp/ipykernel_251316/4256691243.py:53: UserWarning: Glyph 36880 (\\N{CJK UNIFIED IDEOGRAPH-9010}) missing from font(s) DejaVu Sans.\n",
      "  plt.tight_layout()\n",
      "/tmp/ipykernel_251316/4256691243.py:53: UserWarning: Glyph 23383 (\\N{CJK UNIFIED IDEOGRAPH-5B57}) missing from font(s) DejaVu Sans.\n",
      "  plt.tight_layout()\n",
      "/tmp/ipykernel_251316/4256691243.py:53: UserWarning: Glyph 31526 (\\N{CJK UNIFIED IDEOGRAPH-7B26}) missing from font(s) DejaVu Sans.\n",
      "  plt.tight_layout()\n",
      "/tmp/ipykernel_251316/4256691243.py:53: UserWarning: Glyph 39029 (\\N{CJK UNIFIED IDEOGRAPH-9875}) missing from font(s) DejaVu Sans.\n",
      "  plt.tight_layout()\n",
      "/tmp/ipykernel_251316/4256691243.py:53: UserWarning: Glyph 38754 (\\N{CJK UNIFIED IDEOGRAPH-9762}) missing from font(s) DejaVu Sans.\n",
      "  plt.tight_layout()\n",
      "/tmp/ipykernel_251316/4256691243.py:53: UserWarning: Glyph 32531 (\\N{CJK UNIFIED IDEOGRAPH-7F13}) missing from font(s) DejaVu Sans.\n",
      "  plt.tight_layout()\n",
      "/tmp/ipykernel_251316/4256691243.py:53: UserWarning: Glyph 20914 (\\N{CJK UNIFIED IDEOGRAPH-51B2}) missing from font(s) DejaVu Sans.\n",
      "  plt.tight_layout()\n",
      "/tmp/ipykernel_251316/4256691243.py:53: UserWarning: Glyph 23545 (\\N{CJK UNIFIED IDEOGRAPH-5BF9}) missing from font(s) DejaVu Sans.\n",
      "  plt.tight_layout()\n",
      "/tmp/ipykernel_251316/4256691243.py:53: UserWarning: Glyph 40784 (\\N{CJK UNIFIED IDEOGRAPH-9F50}) missing from font(s) DejaVu Sans.\n",
      "  plt.tight_layout()\n",
      "/tmp/ipykernel_251316/4256691243.py:53: UserWarning: Glyph 25991 (\\N{CJK UNIFIED IDEOGRAPH-6587}) missing from font(s) DejaVu Sans.\n",
      "  plt.tight_layout()\n",
      "/tmp/ipykernel_251316/4256691243.py:53: UserWarning: Glyph 20214 (\\N{CJK UNIFIED IDEOGRAPH-4EF6}) missing from font(s) DejaVu Sans.\n",
      "  plt.tight_layout()\n",
      "/tmp/ipykernel_251316/4256691243.py:53: UserWarning: Glyph 22359 (\\N{CJK UNIFIED IDEOGRAPH-5757}) missing from font(s) DejaVu Sans.\n",
      "  plt.tight_layout()\n",
      "/tmp/ipykernel_251316/4256691243.py:53: UserWarning: Glyph 20248 (\\N{CJK UNIFIED IDEOGRAPH-4F18}) missing from font(s) DejaVu Sans.\n",
      "  plt.tight_layout()\n",
      "/tmp/ipykernel_251316/4256691243.py:53: UserWarning: Glyph 21270 (\\N{CJK UNIFIED IDEOGRAPH-5316}) missing from font(s) DejaVu Sans.\n",
      "  plt.tight_layout()\n",
      "/tmp/ipykernel_251316/4256691243.py:53: UserWarning: Glyph 26102 (\\N{CJK UNIFIED IDEOGRAPH-65F6}) missing from font(s) DejaVu Sans.\n",
      "  plt.tight_layout()\n",
      "/tmp/ipykernel_251316/4256691243.py:53: UserWarning: Glyph 38388 (\\N{CJK UNIFIED IDEOGRAPH-95F4}) missing from font(s) DejaVu Sans.\n",
      "  plt.tight_layout()\n",
      "/tmp/ipykernel_251316/4256691243.py:53: UserWarning: Glyph 31186 (\\N{CJK UNIFIED IDEOGRAPH-79D2}) missing from font(s) DejaVu Sans.\n",
      "  plt.tight_layout()\n",
      "/tmp/ipykernel_251316/4256691243.py:53: UserWarning: Glyph 25152 (\\N{CJK UNIFIED IDEOGRAPH-6240}) missing from font(s) DejaVu Sans.\n",
      "  plt.tight_layout()\n",
      "/tmp/ipykernel_251316/4256691243.py:53: UserWarning: Glyph 26377 (\\N{CJK UNIFIED IDEOGRAPH-6709}) missing from font(s) DejaVu Sans.\n",
      "  plt.tight_layout()\n",
      "/tmp/ipykernel_251316/4256691243.py:53: UserWarning: Glyph 23454 (\\N{CJK UNIFIED IDEOGRAPH-5B9E}) missing from font(s) DejaVu Sans.\n",
      "  plt.tight_layout()\n",
      "/tmp/ipykernel_251316/4256691243.py:53: UserWarning: Glyph 29616 (\\N{CJK UNIFIED IDEOGRAPH-73B0}) missing from font(s) DejaVu Sans.\n",
      "  plt.tight_layout()\n",
      "/tmp/ipykernel_251316/4256691243.py:53: UserWarning: Glyph 24615 (\\N{CJK UNIFIED IDEOGRAPH-6027}) missing from font(s) DejaVu Sans.\n",
      "  plt.tight_layout()\n",
      "/tmp/ipykernel_251316/4256691243.py:53: UserWarning: Glyph 33021 (\\N{CJK UNIFIED IDEOGRAPH-80FD}) missing from font(s) DejaVu Sans.\n",
      "  plt.tight_layout()\n",
      "/tmp/ipykernel_251316/4256691243.py:53: UserWarning: Glyph 27604 (\\N{CJK UNIFIED IDEOGRAPH-6BD4}) missing from font(s) DejaVu Sans.\n",
      "  plt.tight_layout()\n",
      "/tmp/ipykernel_251316/4256691243.py:53: UserWarning: Glyph 65288 (\\N{FULLWIDTH LEFT PARENTHESIS}) missing from font(s) DejaVu Sans.\n",
      "  plt.tight_layout()\n",
      "/tmp/ipykernel_251316/4256691243.py:53: UserWarning: Glyph 25968 (\\N{CJK UNIFIED IDEOGRAPH-6570}) missing from font(s) DejaVu Sans.\n",
      "  plt.tight_layout()\n",
      "/tmp/ipykernel_251316/4256691243.py:53: UserWarning: Glyph 23610 (\\N{CJK UNIFIED IDEOGRAPH-5C3A}) missing from font(s) DejaVu Sans.\n",
      "  plt.tight_layout()\n",
      "/tmp/ipykernel_251316/4256691243.py:53: UserWarning: Glyph 24230 (\\N{CJK UNIFIED IDEOGRAPH-5EA6}) missing from font(s) DejaVu Sans.\n",
      "  plt.tight_layout()\n",
      "/tmp/ipykernel_251316/4256691243.py:53: UserWarning: Glyph 65289 (\\N{FULLWIDTH RIGHT PARENTHESIS}) missing from font(s) DejaVu Sans.\n",
      "  plt.tight_layout()\n",
      "/tmp/ipykernel_251316/4256691243.py:53: UserWarning: Glyph 39640 (\\N{CJK UNIFIED IDEOGRAPH-9AD8}) missing from font(s) DejaVu Sans.\n",
      "  plt.tight_layout()\n",
      "/tmp/ipykernel_251316/4256691243.py:53: UserWarning: Glyph 25928 (\\N{CJK UNIFIED IDEOGRAPH-6548}) missing from font(s) DejaVu Sans.\n",
      "  plt.tight_layout()\n",
      "/tmp/ipykernel_251316/4256691243.py:53: UserWarning: Glyph 32447 (\\N{CJK UNIFIED IDEOGRAPH-7EBF}) missing from font(s) DejaVu Sans.\n",
      "  plt.tight_layout()\n",
      "/tmp/ipykernel_251316/4256691243.py:53: UserWarning: Glyph 26102 (\\N{CJK UNIFIED IDEOGRAPH-65F6}) missing from font(s) DejaVu Sans.\n",
      "  plt.tight_layout()\n",
      "/tmp/ipykernel_251316/4256691243.py:53: UserWarning: Glyph 38388 (\\N{CJK UNIFIED IDEOGRAPH-95F4}) missing from font(s) DejaVu Sans.\n",
      "  plt.tight_layout()\n",
      "/tmp/ipykernel_251316/4256691243.py:53: UserWarning: Glyph 31186 (\\N{CJK UNIFIED IDEOGRAPH-79D2}) missing from font(s) DejaVu Sans.\n",
      "  plt.tight_layout()\n",
      "/tmp/ipykernel_251316/4256691243.py:53: UserWarning: Glyph 25152 (\\N{CJK UNIFIED IDEOGRAPH-6240}) missing from font(s) DejaVu Sans.\n",
      "  plt.tight_layout()\n",
      "/tmp/ipykernel_251316/4256691243.py:53: UserWarning: Glyph 26377 (\\N{CJK UNIFIED IDEOGRAPH-6709}) missing from font(s) DejaVu Sans.\n",
      "  plt.tight_layout()\n",
      "/tmp/ipykernel_251316/4256691243.py:53: UserWarning: Glyph 23454 (\\N{CJK UNIFIED IDEOGRAPH-5B9E}) missing from font(s) DejaVu Sans.\n",
      "  plt.tight_layout()\n",
      "/tmp/ipykernel_251316/4256691243.py:53: UserWarning: Glyph 29616 (\\N{CJK UNIFIED IDEOGRAPH-73B0}) missing from font(s) DejaVu Sans.\n",
      "  plt.tight_layout()\n",
      "/tmp/ipykernel_251316/4256691243.py:53: UserWarning: Glyph 24615 (\\N{CJK UNIFIED IDEOGRAPH-6027}) missing from font(s) DejaVu Sans.\n",
      "  plt.tight_layout()\n",
      "/tmp/ipykernel_251316/4256691243.py:53: UserWarning: Glyph 33021 (\\N{CJK UNIFIED IDEOGRAPH-80FD}) missing from font(s) DejaVu Sans.\n",
      "  plt.tight_layout()\n",
      "/tmp/ipykernel_251316/4256691243.py:53: UserWarning: Glyph 27604 (\\N{CJK UNIFIED IDEOGRAPH-6BD4}) missing from font(s) DejaVu Sans.\n",
      "  plt.tight_layout()\n",
      "/tmp/ipykernel_251316/4256691243.py:53: UserWarning: Glyph 65288 (\\N{FULLWIDTH LEFT PARENTHESIS}) missing from font(s) DejaVu Sans.\n",
      "  plt.tight_layout()\n",
      "/tmp/ipykernel_251316/4256691243.py:53: UserWarning: Glyph 25968 (\\N{CJK UNIFIED IDEOGRAPH-6570}) missing from font(s) DejaVu Sans.\n",
      "  plt.tight_layout()\n",
      "/tmp/ipykernel_251316/4256691243.py:53: UserWarning: Glyph 23610 (\\N{CJK UNIFIED IDEOGRAPH-5C3A}) missing from font(s) DejaVu Sans.\n",
      "  plt.tight_layout()\n",
      "/tmp/ipykernel_251316/4256691243.py:53: UserWarning: Glyph 24230 (\\N{CJK UNIFIED IDEOGRAPH-5EA6}) missing from font(s) DejaVu Sans.\n",
      "  plt.tight_layout()\n",
      "/tmp/ipykernel_251316/4256691243.py:53: UserWarning: Glyph 65289 (\\N{FULLWIDTH RIGHT PARENTHESIS}) missing from font(s) DejaVu Sans.\n",
      "  plt.tight_layout()\n",
      "/tmp/ipykernel_251316/4256691243.py:53: UserWarning: Glyph 39640 (\\N{CJK UNIFIED IDEOGRAPH-9AD8}) missing from font(s) DejaVu Sans.\n",
      "  plt.tight_layout()\n",
      "/tmp/ipykernel_251316/4256691243.py:53: UserWarning: Glyph 25928 (\\N{CJK UNIFIED IDEOGRAPH-6548}) missing from font(s) DejaVu Sans.\n",
      "  plt.tight_layout()\n",
      "/tmp/ipykernel_251316/4256691243.py:53: UserWarning: Glyph 32447 (\\N{CJK UNIFIED IDEOGRAPH-7EBF}) missing from font(s) DejaVu Sans.\n",
      "  plt.tight_layout()\n",
      "/home/theskyfuker/ICS_Lab/meowhw-TheSkyFuker54188/.venv/lib/python3.10/site-packages/IPython/core/pylabtools.py:170: UserWarning: Glyph 26102 (\\N{CJK UNIFIED IDEOGRAPH-65F6}) missing from font(s) DejaVu Sans.\n",
      "  fig.canvas.print_figure(bytes_io, **kw)\n",
      "/home/theskyfuker/ICS_Lab/meowhw-TheSkyFuker54188/.venv/lib/python3.10/site-packages/IPython/core/pylabtools.py:170: UserWarning: Glyph 38388 (\\N{CJK UNIFIED IDEOGRAPH-95F4}) missing from font(s) DejaVu Sans.\n",
      "  fig.canvas.print_figure(bytes_io, **kw)\n",
      "/home/theskyfuker/ICS_Lab/meowhw-TheSkyFuker54188/.venv/lib/python3.10/site-packages/IPython/core/pylabtools.py:170: UserWarning: Glyph 31186 (\\N{CJK UNIFIED IDEOGRAPH-79D2}) missing from font(s) DejaVu Sans.\n",
      "  fig.canvas.print_figure(bytes_io, **kw)\n",
      "/home/theskyfuker/ICS_Lab/meowhw-TheSkyFuker54188/.venv/lib/python3.10/site-packages/IPython/core/pylabtools.py:170: UserWarning: Glyph 25152 (\\N{CJK UNIFIED IDEOGRAPH-6240}) missing from font(s) DejaVu Sans.\n",
      "  fig.canvas.print_figure(bytes_io, **kw)\n",
      "/home/theskyfuker/ICS_Lab/meowhw-TheSkyFuker54188/.venv/lib/python3.10/site-packages/IPython/core/pylabtools.py:170: UserWarning: Glyph 26377 (\\N{CJK UNIFIED IDEOGRAPH-6709}) missing from font(s) DejaVu Sans.\n",
      "  fig.canvas.print_figure(bytes_io, **kw)\n",
      "/home/theskyfuker/ICS_Lab/meowhw-TheSkyFuker54188/.venv/lib/python3.10/site-packages/IPython/core/pylabtools.py:170: UserWarning: Glyph 23454 (\\N{CJK UNIFIED IDEOGRAPH-5B9E}) missing from font(s) DejaVu Sans.\n",
      "  fig.canvas.print_figure(bytes_io, **kw)\n",
      "/home/theskyfuker/ICS_Lab/meowhw-TheSkyFuker54188/.venv/lib/python3.10/site-packages/IPython/core/pylabtools.py:170: UserWarning: Glyph 29616 (\\N{CJK UNIFIED IDEOGRAPH-73B0}) missing from font(s) DejaVu Sans.\n",
      "  fig.canvas.print_figure(bytes_io, **kw)\n",
      "/home/theskyfuker/ICS_Lab/meowhw-TheSkyFuker54188/.venv/lib/python3.10/site-packages/IPython/core/pylabtools.py:170: UserWarning: Glyph 24615 (\\N{CJK UNIFIED IDEOGRAPH-6027}) missing from font(s) DejaVu Sans.\n",
      "  fig.canvas.print_figure(bytes_io, **kw)\n",
      "/home/theskyfuker/ICS_Lab/meowhw-TheSkyFuker54188/.venv/lib/python3.10/site-packages/IPython/core/pylabtools.py:170: UserWarning: Glyph 33021 (\\N{CJK UNIFIED IDEOGRAPH-80FD}) missing from font(s) DejaVu Sans.\n",
      "  fig.canvas.print_figure(bytes_io, **kw)\n",
      "/home/theskyfuker/ICS_Lab/meowhw-TheSkyFuker54188/.venv/lib/python3.10/site-packages/IPython/core/pylabtools.py:170: UserWarning: Glyph 23545 (\\N{CJK UNIFIED IDEOGRAPH-5BF9}) missing from font(s) DejaVu Sans.\n",
      "  fig.canvas.print_figure(bytes_io, **kw)\n",
      "/home/theskyfuker/ICS_Lab/meowhw-TheSkyFuker54188/.venv/lib/python3.10/site-packages/IPython/core/pylabtools.py:170: UserWarning: Glyph 27604 (\\N{CJK UNIFIED IDEOGRAPH-6BD4}) missing from font(s) DejaVu Sans.\n",
      "  fig.canvas.print_figure(bytes_io, **kw)\n",
      "/home/theskyfuker/ICS_Lab/meowhw-TheSkyFuker54188/.venv/lib/python3.10/site-packages/IPython/core/pylabtools.py:170: UserWarning: Glyph 65288 (\\N{FULLWIDTH LEFT PARENTHESIS}) missing from font(s) DejaVu Sans.\n",
      "  fig.canvas.print_figure(bytes_io, **kw)\n",
      "/home/theskyfuker/ICS_Lab/meowhw-TheSkyFuker54188/.venv/lib/python3.10/site-packages/IPython/core/pylabtools.py:170: UserWarning: Glyph 25968 (\\N{CJK UNIFIED IDEOGRAPH-6570}) missing from font(s) DejaVu Sans.\n",
      "  fig.canvas.print_figure(bytes_io, **kw)\n",
      "/home/theskyfuker/ICS_Lab/meowhw-TheSkyFuker54188/.venv/lib/python3.10/site-packages/IPython/core/pylabtools.py:170: UserWarning: Glyph 23610 (\\N{CJK UNIFIED IDEOGRAPH-5C3A}) missing from font(s) DejaVu Sans.\n",
      "  fig.canvas.print_figure(bytes_io, **kw)\n",
      "/home/theskyfuker/ICS_Lab/meowhw-TheSkyFuker54188/.venv/lib/python3.10/site-packages/IPython/core/pylabtools.py:170: UserWarning: Glyph 24230 (\\N{CJK UNIFIED IDEOGRAPH-5EA6}) missing from font(s) DejaVu Sans.\n",
      "  fig.canvas.print_figure(bytes_io, **kw)\n",
      "/home/theskyfuker/ICS_Lab/meowhw-TheSkyFuker54188/.venv/lib/python3.10/site-packages/IPython/core/pylabtools.py:170: UserWarning: Glyph 65289 (\\N{FULLWIDTH RIGHT PARENTHESIS}) missing from font(s) DejaVu Sans.\n",
      "  fig.canvas.print_figure(bytes_io, **kw)\n",
      "/home/theskyfuker/ICS_Lab/meowhw-TheSkyFuker54188/.venv/lib/python3.10/site-packages/IPython/core/pylabtools.py:170: UserWarning: Glyph 31995 (\\N{CJK UNIFIED IDEOGRAPH-7CFB}) missing from font(s) DejaVu Sans.\n",
      "  fig.canvas.print_figure(bytes_io, **kw)\n",
      "/home/theskyfuker/ICS_Lab/meowhw-TheSkyFuker54188/.venv/lib/python3.10/site-packages/IPython/core/pylabtools.py:170: UserWarning: Glyph 32479 (\\N{CJK UNIFIED IDEOGRAPH-7EDF}) missing from font(s) DejaVu Sans.\n",
      "  fig.canvas.print_figure(bytes_io, **kw)\n",
      "/home/theskyfuker/ICS_Lab/meowhw-TheSkyFuker54188/.venv/lib/python3.10/site-packages/IPython/core/pylabtools.py:170: UserWarning: Glyph 36880 (\\N{CJK UNIFIED IDEOGRAPH-9010}) missing from font(s) DejaVu Sans.\n",
      "  fig.canvas.print_figure(bytes_io, **kw)\n",
      "/home/theskyfuker/ICS_Lab/meowhw-TheSkyFuker54188/.venv/lib/python3.10/site-packages/IPython/core/pylabtools.py:170: UserWarning: Glyph 23383 (\\N{CJK UNIFIED IDEOGRAPH-5B57}) missing from font(s) DejaVu Sans.\n",
      "  fig.canvas.print_figure(bytes_io, **kw)\n",
      "/home/theskyfuker/ICS_Lab/meowhw-TheSkyFuker54188/.venv/lib/python3.10/site-packages/IPython/core/pylabtools.py:170: UserWarning: Glyph 31526 (\\N{CJK UNIFIED IDEOGRAPH-7B26}) missing from font(s) DejaVu Sans.\n",
      "  fig.canvas.print_figure(bytes_io, **kw)\n",
      "/home/theskyfuker/ICS_Lab/meowhw-TheSkyFuker54188/.venv/lib/python3.10/site-packages/IPython/core/pylabtools.py:170: UserWarning: Glyph 39029 (\\N{CJK UNIFIED IDEOGRAPH-9875}) missing from font(s) DejaVu Sans.\n",
      "  fig.canvas.print_figure(bytes_io, **kw)\n",
      "/home/theskyfuker/ICS_Lab/meowhw-TheSkyFuker54188/.venv/lib/python3.10/site-packages/IPython/core/pylabtools.py:170: UserWarning: Glyph 38754 (\\N{CJK UNIFIED IDEOGRAPH-9762}) missing from font(s) DejaVu Sans.\n",
      "  fig.canvas.print_figure(bytes_io, **kw)\n",
      "/home/theskyfuker/ICS_Lab/meowhw-TheSkyFuker54188/.venv/lib/python3.10/site-packages/IPython/core/pylabtools.py:170: UserWarning: Glyph 32531 (\\N{CJK UNIFIED IDEOGRAPH-7F13}) missing from font(s) DejaVu Sans.\n",
      "  fig.canvas.print_figure(bytes_io, **kw)\n",
      "/home/theskyfuker/ICS_Lab/meowhw-TheSkyFuker54188/.venv/lib/python3.10/site-packages/IPython/core/pylabtools.py:170: UserWarning: Glyph 20914 (\\N{CJK UNIFIED IDEOGRAPH-51B2}) missing from font(s) DejaVu Sans.\n",
      "  fig.canvas.print_figure(bytes_io, **kw)\n",
      "/home/theskyfuker/ICS_Lab/meowhw-TheSkyFuker54188/.venv/lib/python3.10/site-packages/IPython/core/pylabtools.py:170: UserWarning: Glyph 40784 (\\N{CJK UNIFIED IDEOGRAPH-9F50}) missing from font(s) DejaVu Sans.\n",
      "  fig.canvas.print_figure(bytes_io, **kw)\n",
      "/home/theskyfuker/ICS_Lab/meowhw-TheSkyFuker54188/.venv/lib/python3.10/site-packages/IPython/core/pylabtools.py:170: UserWarning: Glyph 25991 (\\N{CJK UNIFIED IDEOGRAPH-6587}) missing from font(s) DejaVu Sans.\n",
      "  fig.canvas.print_figure(bytes_io, **kw)\n",
      "/home/theskyfuker/ICS_Lab/meowhw-TheSkyFuker54188/.venv/lib/python3.10/site-packages/IPython/core/pylabtools.py:170: UserWarning: Glyph 20214 (\\N{CJK UNIFIED IDEOGRAPH-4EF6}) missing from font(s) DejaVu Sans.\n",
      "  fig.canvas.print_figure(bytes_io, **kw)\n",
      "/home/theskyfuker/ICS_Lab/meowhw-TheSkyFuker54188/.venv/lib/python3.10/site-packages/IPython/core/pylabtools.py:170: UserWarning: Glyph 22359 (\\N{CJK UNIFIED IDEOGRAPH-5757}) missing from font(s) DejaVu Sans.\n",
      "  fig.canvas.print_figure(bytes_io, **kw)\n",
      "/home/theskyfuker/ICS_Lab/meowhw-TheSkyFuker54188/.venv/lib/python3.10/site-packages/IPython/core/pylabtools.py:170: UserWarning: Glyph 20248 (\\N{CJK UNIFIED IDEOGRAPH-4F18}) missing from font(s) DejaVu Sans.\n",
      "  fig.canvas.print_figure(bytes_io, **kw)\n",
      "/home/theskyfuker/ICS_Lab/meowhw-TheSkyFuker54188/.venv/lib/python3.10/site-packages/IPython/core/pylabtools.py:170: UserWarning: Glyph 21270 (\\N{CJK UNIFIED IDEOGRAPH-5316}) missing from font(s) DejaVu Sans.\n",
      "  fig.canvas.print_figure(bytes_io, **kw)\n",
      "/home/theskyfuker/ICS_Lab/meowhw-TheSkyFuker54188/.venv/lib/python3.10/site-packages/IPython/core/pylabtools.py:170: UserWarning: Glyph 39640 (\\N{CJK UNIFIED IDEOGRAPH-9AD8}) missing from font(s) DejaVu Sans.\n",
      "  fig.canvas.print_figure(bytes_io, **kw)\n",
      "/home/theskyfuker/ICS_Lab/meowhw-TheSkyFuker54188/.venv/lib/python3.10/site-packages/IPython/core/pylabtools.py:170: UserWarning: Glyph 25928 (\\N{CJK UNIFIED IDEOGRAPH-6548}) missing from font(s) DejaVu Sans.\n",
      "  fig.canvas.print_figure(bytes_io, **kw)\n",
      "/home/theskyfuker/ICS_Lab/meowhw-TheSkyFuker54188/.venv/lib/python3.10/site-packages/IPython/core/pylabtools.py:170: UserWarning: Glyph 32447 (\\N{CJK UNIFIED IDEOGRAPH-7EBF}) missing from font(s) DejaVu Sans.\n",
      "  fig.canvas.print_figure(bytes_io, **kw)\n",
      "/home/theskyfuker/ICS_Lab/meowhw-TheSkyFuker54188/.venv/lib/python3.10/site-packages/IPython/core/pylabtools.py:170: UserWarning: Glyph 26102 (\\N{CJK UNIFIED IDEOGRAPH-65F6}) missing from font(s) DejaVu Sans.\n",
      "  fig.canvas.print_figure(bytes_io, **kw)\n",
      "/home/theskyfuker/ICS_Lab/meowhw-TheSkyFuker54188/.venv/lib/python3.10/site-packages/IPython/core/pylabtools.py:170: UserWarning: Glyph 38388 (\\N{CJK UNIFIED IDEOGRAPH-95F4}) missing from font(s) DejaVu Sans.\n",
      "  fig.canvas.print_figure(bytes_io, **kw)\n",
      "/home/theskyfuker/ICS_Lab/meowhw-TheSkyFuker54188/.venv/lib/python3.10/site-packages/IPython/core/pylabtools.py:170: UserWarning: Glyph 31186 (\\N{CJK UNIFIED IDEOGRAPH-79D2}) missing from font(s) DejaVu Sans.\n",
      "  fig.canvas.print_figure(bytes_io, **kw)\n",
      "/home/theskyfuker/ICS_Lab/meowhw-TheSkyFuker54188/.venv/lib/python3.10/site-packages/IPython/core/pylabtools.py:170: UserWarning: Glyph 25152 (\\N{CJK UNIFIED IDEOGRAPH-6240}) missing from font(s) DejaVu Sans.\n",
      "  fig.canvas.print_figure(bytes_io, **kw)\n",
      "/home/theskyfuker/ICS_Lab/meowhw-TheSkyFuker54188/.venv/lib/python3.10/site-packages/IPython/core/pylabtools.py:170: UserWarning: Glyph 26377 (\\N{CJK UNIFIED IDEOGRAPH-6709}) missing from font(s) DejaVu Sans.\n",
      "  fig.canvas.print_figure(bytes_io, **kw)\n",
      "/home/theskyfuker/ICS_Lab/meowhw-TheSkyFuker54188/.venv/lib/python3.10/site-packages/IPython/core/pylabtools.py:170: UserWarning: Glyph 23454 (\\N{CJK UNIFIED IDEOGRAPH-5B9E}) missing from font(s) DejaVu Sans.\n",
      "  fig.canvas.print_figure(bytes_io, **kw)\n",
      "/home/theskyfuker/ICS_Lab/meowhw-TheSkyFuker54188/.venv/lib/python3.10/site-packages/IPython/core/pylabtools.py:170: UserWarning: Glyph 29616 (\\N{CJK UNIFIED IDEOGRAPH-73B0}) missing from font(s) DejaVu Sans.\n",
      "  fig.canvas.print_figure(bytes_io, **kw)\n",
      "/home/theskyfuker/ICS_Lab/meowhw-TheSkyFuker54188/.venv/lib/python3.10/site-packages/IPython/core/pylabtools.py:170: UserWarning: Glyph 24615 (\\N{CJK UNIFIED IDEOGRAPH-6027}) missing from font(s) DejaVu Sans.\n",
      "  fig.canvas.print_figure(bytes_io, **kw)\n",
      "/home/theskyfuker/ICS_Lab/meowhw-TheSkyFuker54188/.venv/lib/python3.10/site-packages/IPython/core/pylabtools.py:170: UserWarning: Glyph 33021 (\\N{CJK UNIFIED IDEOGRAPH-80FD}) missing from font(s) DejaVu Sans.\n",
      "  fig.canvas.print_figure(bytes_io, **kw)\n",
      "/home/theskyfuker/ICS_Lab/meowhw-TheSkyFuker54188/.venv/lib/python3.10/site-packages/IPython/core/pylabtools.py:170: UserWarning: Glyph 23545 (\\N{CJK UNIFIED IDEOGRAPH-5BF9}) missing from font(s) DejaVu Sans.\n",
      "  fig.canvas.print_figure(bytes_io, **kw)\n",
      "/home/theskyfuker/ICS_Lab/meowhw-TheSkyFuker54188/.venv/lib/python3.10/site-packages/IPython/core/pylabtools.py:170: UserWarning: Glyph 27604 (\\N{CJK UNIFIED IDEOGRAPH-6BD4}) missing from font(s) DejaVu Sans.\n",
      "  fig.canvas.print_figure(bytes_io, **kw)\n",
      "/home/theskyfuker/ICS_Lab/meowhw-TheSkyFuker54188/.venv/lib/python3.10/site-packages/IPython/core/pylabtools.py:170: UserWarning: Glyph 65288 (\\N{FULLWIDTH LEFT PARENTHESIS}) missing from font(s) DejaVu Sans.\n",
      "  fig.canvas.print_figure(bytes_io, **kw)\n",
      "/home/theskyfuker/ICS_Lab/meowhw-TheSkyFuker54188/.venv/lib/python3.10/site-packages/IPython/core/pylabtools.py:170: UserWarning: Glyph 25968 (\\N{CJK UNIFIED IDEOGRAPH-6570}) missing from font(s) DejaVu Sans.\n",
      "  fig.canvas.print_figure(bytes_io, **kw)\n",
      "/home/theskyfuker/ICS_Lab/meowhw-TheSkyFuker54188/.venv/lib/python3.10/site-packages/IPython/core/pylabtools.py:170: UserWarning: Glyph 23610 (\\N{CJK UNIFIED IDEOGRAPH-5C3A}) missing from font(s) DejaVu Sans.\n",
      "  fig.canvas.print_figure(bytes_io, **kw)\n",
      "/home/theskyfuker/ICS_Lab/meowhw-TheSkyFuker54188/.venv/lib/python3.10/site-packages/IPython/core/pylabtools.py:170: UserWarning: Glyph 24230 (\\N{CJK UNIFIED IDEOGRAPH-5EA6}) missing from font(s) DejaVu Sans.\n",
      "  fig.canvas.print_figure(bytes_io, **kw)\n",
      "/home/theskyfuker/ICS_Lab/meowhw-TheSkyFuker54188/.venv/lib/python3.10/site-packages/IPython/core/pylabtools.py:170: UserWarning: Glyph 65289 (\\N{FULLWIDTH RIGHT PARENTHESIS}) missing from font(s) DejaVu Sans.\n",
      "  fig.canvas.print_figure(bytes_io, **kw)\n",
      "/home/theskyfuker/ICS_Lab/meowhw-TheSkyFuker54188/.venv/lib/python3.10/site-packages/IPython/core/pylabtools.py:170: UserWarning: Glyph 31995 (\\N{CJK UNIFIED IDEOGRAPH-7CFB}) missing from font(s) DejaVu Sans.\n",
      "  fig.canvas.print_figure(bytes_io, **kw)\n",
      "/home/theskyfuker/ICS_Lab/meowhw-TheSkyFuker54188/.venv/lib/python3.10/site-packages/IPython/core/pylabtools.py:170: UserWarning: Glyph 32479 (\\N{CJK UNIFIED IDEOGRAPH-7EDF}) missing from font(s) DejaVu Sans.\n",
      "  fig.canvas.print_figure(bytes_io, **kw)\n",
      "/home/theskyfuker/ICS_Lab/meowhw-TheSkyFuker54188/.venv/lib/python3.10/site-packages/IPython/core/pylabtools.py:170: UserWarning: Glyph 36880 (\\N{CJK UNIFIED IDEOGRAPH-9010}) missing from font(s) DejaVu Sans.\n",
      "  fig.canvas.print_figure(bytes_io, **kw)\n",
      "/home/theskyfuker/ICS_Lab/meowhw-TheSkyFuker54188/.venv/lib/python3.10/site-packages/IPython/core/pylabtools.py:170: UserWarning: Glyph 23383 (\\N{CJK UNIFIED IDEOGRAPH-5B57}) missing from font(s) DejaVu Sans.\n",
      "  fig.canvas.print_figure(bytes_io, **kw)\n",
      "/home/theskyfuker/ICS_Lab/meowhw-TheSkyFuker54188/.venv/lib/python3.10/site-packages/IPython/core/pylabtools.py:170: UserWarning: Glyph 31526 (\\N{CJK UNIFIED IDEOGRAPH-7B26}) missing from font(s) DejaVu Sans.\n",
      "  fig.canvas.print_figure(bytes_io, **kw)\n",
      "/home/theskyfuker/ICS_Lab/meowhw-TheSkyFuker54188/.venv/lib/python3.10/site-packages/IPython/core/pylabtools.py:170: UserWarning: Glyph 39029 (\\N{CJK UNIFIED IDEOGRAPH-9875}) missing from font(s) DejaVu Sans.\n",
      "  fig.canvas.print_figure(bytes_io, **kw)\n",
      "/home/theskyfuker/ICS_Lab/meowhw-TheSkyFuker54188/.venv/lib/python3.10/site-packages/IPython/core/pylabtools.py:170: UserWarning: Glyph 38754 (\\N{CJK UNIFIED IDEOGRAPH-9762}) missing from font(s) DejaVu Sans.\n",
      "  fig.canvas.print_figure(bytes_io, **kw)\n",
      "/home/theskyfuker/ICS_Lab/meowhw-TheSkyFuker54188/.venv/lib/python3.10/site-packages/IPython/core/pylabtools.py:170: UserWarning: Glyph 32531 (\\N{CJK UNIFIED IDEOGRAPH-7F13}) missing from font(s) DejaVu Sans.\n",
      "  fig.canvas.print_figure(bytes_io, **kw)\n",
      "/home/theskyfuker/ICS_Lab/meowhw-TheSkyFuker54188/.venv/lib/python3.10/site-packages/IPython/core/pylabtools.py:170: UserWarning: Glyph 20914 (\\N{CJK UNIFIED IDEOGRAPH-51B2}) missing from font(s) DejaVu Sans.\n",
      "  fig.canvas.print_figure(bytes_io, **kw)\n",
      "/home/theskyfuker/ICS_Lab/meowhw-TheSkyFuker54188/.venv/lib/python3.10/site-packages/IPython/core/pylabtools.py:170: UserWarning: Glyph 40784 (\\N{CJK UNIFIED IDEOGRAPH-9F50}) missing from font(s) DejaVu Sans.\n",
      "  fig.canvas.print_figure(bytes_io, **kw)\n",
      "/home/theskyfuker/ICS_Lab/meowhw-TheSkyFuker54188/.venv/lib/python3.10/site-packages/IPython/core/pylabtools.py:170: UserWarning: Glyph 25991 (\\N{CJK UNIFIED IDEOGRAPH-6587}) missing from font(s) DejaVu Sans.\n",
      "  fig.canvas.print_figure(bytes_io, **kw)\n",
      "/home/theskyfuker/ICS_Lab/meowhw-TheSkyFuker54188/.venv/lib/python3.10/site-packages/IPython/core/pylabtools.py:170: UserWarning: Glyph 20214 (\\N{CJK UNIFIED IDEOGRAPH-4EF6}) missing from font(s) DejaVu Sans.\n",
      "  fig.canvas.print_figure(bytes_io, **kw)\n",
      "/home/theskyfuker/ICS_Lab/meowhw-TheSkyFuker54188/.venv/lib/python3.10/site-packages/IPython/core/pylabtools.py:170: UserWarning: Glyph 22359 (\\N{CJK UNIFIED IDEOGRAPH-5757}) missing from font(s) DejaVu Sans.\n",
      "  fig.canvas.print_figure(bytes_io, **kw)\n",
      "/home/theskyfuker/ICS_Lab/meowhw-TheSkyFuker54188/.venv/lib/python3.10/site-packages/IPython/core/pylabtools.py:170: UserWarning: Glyph 20248 (\\N{CJK UNIFIED IDEOGRAPH-4F18}) missing from font(s) DejaVu Sans.\n",
      "  fig.canvas.print_figure(bytes_io, **kw)\n",
      "/home/theskyfuker/ICS_Lab/meowhw-TheSkyFuker54188/.venv/lib/python3.10/site-packages/IPython/core/pylabtools.py:170: UserWarning: Glyph 21270 (\\N{CJK UNIFIED IDEOGRAPH-5316}) missing from font(s) DejaVu Sans.\n",
      "  fig.canvas.print_figure(bytes_io, **kw)\n",
      "/home/theskyfuker/ICS_Lab/meowhw-TheSkyFuker54188/.venv/lib/python3.10/site-packages/IPython/core/pylabtools.py:170: UserWarning: Glyph 39640 (\\N{CJK UNIFIED IDEOGRAPH-9AD8}) missing from font(s) DejaVu Sans.\n",
      "  fig.canvas.print_figure(bytes_io, **kw)\n",
      "/home/theskyfuker/ICS_Lab/meowhw-TheSkyFuker54188/.venv/lib/python3.10/site-packages/IPython/core/pylabtools.py:170: UserWarning: Glyph 25928 (\\N{CJK UNIFIED IDEOGRAPH-6548}) missing from font(s) DejaVu Sans.\n",
      "  fig.canvas.print_figure(bytes_io, **kw)\n",
      "/home/theskyfuker/ICS_Lab/meowhw-TheSkyFuker54188/.venv/lib/python3.10/site-packages/IPython/core/pylabtools.py:170: UserWarning: Glyph 32447 (\\N{CJK UNIFIED IDEOGRAPH-7EBF}) missing from font(s) DejaVu Sans.\n",
      "  fig.canvas.print_figure(bytes_io, **kw)\n"
     ]
    },
    {
     "data": {
      "image/png": "[encoded data removed]",
      "text/plain": [
       "<Figure size 1500x600 with 2 Axes>"
      ]
     },
     "metadata": {},
     "output_type": "display_data"
    },
    {
     "name": "stdout",
     "output_type": "stream",
     "text": [
      "详细性能对比：\n",
      "--------------------------------------------------\n",
      "系统cat          :    431.2 毫秒\n",
      "mycat1\n",
      "(逐字符)   : 1520.015 秒\n",
      "mycat2\n",
      "(页面缓冲)  :    713.7 毫秒\n",
      "mycat3\n",
      "(对齐缓冲)  :    699.8 毫秒\n",
      "mycat4\n",
      "(文件系统块) :    694.6 毫秒\n",
      "mycat5\n",
      "(优化缓冲)  :    479.8 毫秒\n",
      "mycat6\n",
      "(fadvise):    2.510 秒\n",
      "\n",
      "相对于系统cat的性能倍数：\n",
      "----------------------------------------\n",
      "系统cat          :     1.00x\n",
      "mycat1\n",
      "(逐字符)   :  3525.08x\n",
      "mycat2\n",
      "(页面缓冲)  :     1.66x\n",
      "mycat3\n",
      "(对齐缓冲)  :     1.62x\n",
      "mycat4\n",
      "(文件系统块) :     1.61x\n",
      "mycat5\n",
      "(优化缓冲)  :     1.11x\n",
      "mycat6\n",
      "(fadvise):     5.82x\n",
      "\n",
      "最快的自制实现是 mycat5，比系统cat慢 1.11 倍\n",
      "mycat1 比系统cat慢 3525 倍，显示了缓冲区的重要性\n"
     ]
    }
   ],
   "source": [
    "# 这里填入你用于画图的python代码\n",
    "\n",
    "# 性能对比图表\n",
    "import matplotlib.pyplot as plt\n",
    "import numpy as np\n",
    "\n",
    "# 所有实现的性能数据（毫秒）\n",
    "implementations = ['系统cat', 'mycat1\\n(逐字符)', 'mycat2\\n(页面缓冲)', 'mycat3\\n(对齐缓冲)', 'mycat4\\n(文件系统块)', 'mycat5\\n(优化缓冲)', 'mycat6\\n(fadvise)']\n",
    "times_ms = [431.2, 1520015, 713.7, 699.8, 694.6, 479.8, 2510]\n",
    "\n",
    "# 转换为秒便于显示\n",
    "times_s = [t/1000 for t in times_ms]\n",
    "\n",
    "# 创建图表\n",
    "fig, (ax1, ax2) = plt.subplots(1, 2, figsize=(15, 6))\n",
    "\n",
    "# 左图：完整对比（对数尺度）\n",
    "bars1 = ax1.bar(implementations, times_s, color=['red', 'lightcoral', 'lightblue', 'skyblue', 'cornflowerblue', 'blue', 'purple'])\n",
    "ax1.set_ylabel('时间 (秒)')\n",
    "ax1.set_title('所有Cat实现性能对比（对数尺度）')\n",
    "ax1.set_yscale('log')\n",
    "plt.setp(ax1.get_xticklabels(), rotation=45, ha='right')\n",
    "\n",
    "# 在柱子上标注数值\n",
    "for bar, time in zip(bars1, times_s):\n",
    "    height = bar.get_height()\n",
    "    if height > 1:\n",
    "        ax1.text(bar.get_x() + bar.get_width()/2., height,\n",
    "                f'{height:.1f}s', ha='center', va='bottom')\n",
    "    else:\n",
    "        ax1.text(bar.get_x() + bar.get_width()/2., height,\n",
    "                f'{height*1000:.1f}ms', ha='center', va='bottom')\n",
    "\n",
    "# 右图：排除mycat1的对比（线性尺度）\n",
    "efficient_impls = implementations[0:1] + implementations[2:]  # 排除mycat1\n",
    "efficient_times = times_s[0:1] + times_s[2:]\n",
    "\n",
    "bars2 = ax2.bar(efficient_impls, efficient_times, color=['red', 'lightblue', 'skyblue', 'cornflowerblue', 'blue', 'purple'])\n",
    "ax2.set_ylabel('时间 (秒)')\n",
    "ax2.set_title('高效实现性能对比（线性尺度）')\n",
    "plt.setp(ax2.get_xticklabels(), rotation=45, ha='right')\n",
    "\n",
    "# 在柱子上标注数值\n",
    "for bar, time in zip(bars2, efficient_times):\n",
    "    height = bar.get_height()\n",
    "    if height > 1:\n",
    "        ax2.text(bar.get_x() + bar.get_width()/2., height,\n",
    "                f'{height:.2f}s', ha='center', va='bottom')\n",
    "    else:\n",
    "        ax2.text(bar.get_x() + bar.get_width()/2., height,\n",
    "                f'{height*1000:.1f}ms', ha='center', va='bottom')\n",
    "\n",
    "plt.tight_layout()\n",
    "plt.show()\n",
    "\n",
    "# 打印详细性能数据\n",
    "print(\"详细性能对比：\")\n",
    "print(\"-\" * 50)\n",
    "for impl, time_ms in zip(implementations, times_ms):\n",
    "    if time_ms > 1000:\n",
    "        print(f\"{impl:15s}: {time_ms/1000:8.3f} 秒\")\n",
    "    else:\n",
    "        print(f\"{impl:15s}: {time_ms:8.1f} 毫秒\")\n",
    "\n",
    "print(\"\\n相对于系统cat的性能倍数：\")\n",
    "print(\"-\" * 40)\n",
    "baseline = times_ms[0]\n",
    "for impl, time_ms in zip(implementations, times_ms):\n",
    "    ratio = time_ms / baseline\n",
    "    print(f\"{impl:15s}: {ratio:8.2f}x\")\n",
    "\n",
    "print(f\"\\n最快的自制实现是 mycat5，比系统cat慢 {times_ms[5]/times_ms[0]:.2f} 倍\")\n",
    "print(f\"mycat1 比系统cat慢 {times_ms[1]/times_ms[0]:.0f} 倍，显示了缓冲区的重要性\")"
   ]
  },
  {
   "cell_type": "markdown",
   "id": "f01b8a56",
   "metadata": {},
   "source": [
    "### 任务7实验结果分析\n",
    "\n",
    "**实验结果是否符合预期？**\n",
    "\n",
    "大部分结果符合预期：\n",
    "1. **mycat1的极差性能**：每次系统调用读取1字节导致3525倍的性能劣化，完全符合预期\n",
    "2. **缓冲区优化的显著效果**：从mycat2到mycat5的逐步优化都有明显改善\n",
    "3. **接近系统cat的性能**：mycat5达到了系统cat 1.11倍的性能，非常接近\n",
    "\n",
    "**意外的结果：**\n",
    "- **fadvise的负面效果**：mycat6反而比mycat5慢5倍，这是意外的，可能因为测试环境中文件已在缓存中\n",
    "\n",
    "**给我带来的启示：**\n",
    "\n",
    "1. **系统调用开销的巨大影响**：每个系统调用都有固定开销，频繁调用会严重影响性能\n",
    "   \n",
    "2. **缓冲区大小的重要性**：\n",
    "   - 太小：系统调用开销占主导\n",
    "   - 太大：内存开销增加，但性能提升有限\n",
    "   - 需要实验找到最优平衡点\n",
    "\n",
    "3. **多层优化的累积效果**：\n",
    "   - 内存页对齐：小幅改善\n",
    "   - 文件系统块考虑：进一步改善  \n",
    "   - 大缓冲区：显著改善\n",
    "   - 各种优化叠加产生最终效果\n",
    "\n",
    "4. **系统优化的复杂性**：\n",
    "   - 理论最优和实际最优可能不同\n",
    "   - 需要在具体环境中进行实验验证\n",
    "   - 过度优化有时会适得其反\n",
    "\n",
    "5. **GNU coreutils的高度优化**：\n",
    "   - 系统cat经过多年优化，性能极佳\n",
    "   - 我们的mycat5已经非常接近，说明核心优化策略是正确的\n",
    "\n",
    "这个实验很好地展示了系统编程中性能优化的复杂性和重要性。"
   ]
  }
 ],
 "metadata": {
  "kernelspec": {
   "display_name": ".venv",
   "language": "python",
   "name": "python3"
  },
  "language_info": {
   "codemirror_mode": {
    "name": "ipython",
    "version": 3
   },
   "file_extension": ".py",
   "mimetype": "text/x-python",
   "name": "python",
   "nbconvert_exporter": "python",
   "pygments_lexer": "ipython3",
   "version": "3.10.12"
  }
 },
 "nbformat": 4,
 "nbformat_minor": 5
}
